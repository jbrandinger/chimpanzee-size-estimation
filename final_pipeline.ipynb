{
 "cells": [
  {
   "cell_type": "markdown",
   "metadata": {},
   "source": [
    "# Pipeline for image size estimation"
   ]
  },
  {
   "cell_type": "markdown",
   "metadata": {},
   "source": [
    "Imports"
   ]
  },
  {
   "cell_type": "code",
   "execution_count": 1,
   "metadata": {},
   "outputs": [
    {
     "name": "stderr",
     "output_type": "stream",
     "text": [
      "/cluster/tufts/fuzzywuzzy/jbrand12/condaenv/fzwz/lib/python3.9/site-packages/tqdm/auto.py:21: TqdmWarning: IProgress not found. Please update jupyter and ipywidgets. See https://ipywidgets.readthedocs.io/en/stable/user_install.html\n",
      "  from .autonotebook import tqdm as notebook_tqdm\n"
     ]
    }
   ],
   "source": [
    "# basics\n",
    "import numpy as np\n",
    "import pandas as pd\n",
    "import math\n",
    "from tqdm import tqdm\n",
    "# file work\n",
    "import os\n",
    "import json\n",
    "# computer vision\n",
    "import cv2\n",
    "import torch\n",
    "import laser_detection as ld\n",
    "# models\n",
    "from segment_anything import sam_model_registry, SamPredictor\n",
    "from easy_ViTPose import VitInference\n",
    "from huggingface_hub import hf_hub_download"
   ]
  },
  {
   "cell_type": "markdown",
   "metadata": {},
   "source": [
    "## Step 0: Assign input point to each image"
   ]
  },
  {
   "cell_type": "markdown",
   "metadata": {},
   "source": [
    "run: 'python3 label.py' to get json of image names and input points (change path to folder in script)"
   ]
  },
  {
   "cell_type": "markdown",
   "metadata": {},
   "source": [
    "## Step 1: Load image data from json"
   ]
  },
  {
   "cell_type": "markdown",
   "metadata": {},
   "source": [
    "The below are modifiable variables you can change depending on what dataset you are running"
   ]
  },
  {
   "cell_type": "code",
   "execution_count": 2,
   "metadata": {},
   "outputs": [],
   "source": [
    "# ALL DATA\n",
    "json_file = '../data/perfect.json'  # must contain input labels\n",
    "image_folder = '../data/perfect'\n",
    "mask_folder = '../data/perfect_masks'  # can be empty to start\n",
    "\n",
    "# SAMPLE DATA\n",
    "# json_file = 'sample_data/red_lasers/sample_data.json'  # must contain input labels\n",
    "# image_folder = 'sample_data/red_lasers/sample_data'\n",
    "# mask_folder = 'sample_data/red_lasers/sample_data_masks'  # can be empty to start\n",
    "\n",
    "# load data\n",
    "with open(json_file, 'r') as file:\n",
    "    image_data = json.load(file)"
   ]
  },
  {
   "cell_type": "code",
   "execution_count": 3,
   "metadata": {},
   "outputs": [
    {
     "data": {
      "text/plain": [
       "72"
      ]
     },
     "execution_count": 3,
     "metadata": {},
     "output_type": "execute_result"
    }
   ],
   "source": [
    "len(image_data)"
   ]
  },
  {
   "cell_type": "markdown",
   "metadata": {},
   "source": [
    "## Step 2: Run images through SAM to prep for laser detection"
   ]
  },
  {
   "cell_type": "markdown",
   "metadata": {},
   "source": [
    "### ***only need to run this code once to get masks!!!"
   ]
  },
  {
   "cell_type": "markdown",
   "metadata": {},
   "source": [
    "Set up SAM"
   ]
  },
  {
   "cell_type": "code",
   "execution_count": 4,
   "metadata": {},
   "outputs": [],
   "source": [
    "# select checkpoint and model type\n",
    "sam_checkpoint = \"../sam_vit_h_4b8939.pth\"\n",
    "model_type = \"vit_h\"\n",
    "\n",
    "# define predictor\n",
    "sam = sam_model_registry[model_type](checkpoint=sam_checkpoint)\n",
    "\n",
    "# change device if cuda is available\n",
    "if torch.cuda.is_available():\n",
    "    sam.to(device='cuda')\n",
    "\n",
    "predictor = SamPredictor(sam)"
   ]
  },
  {
   "cell_type": "code",
   "execution_count": 5,
   "metadata": {},
   "outputs": [],
   "source": [
    "def generate_mask(im, input_point):\n",
    "    input_label = np.array([1])\n",
    "    predictor.set_image(im)\n",
    "    masks, scores, _ = predictor.predict(point_coords=input_point, point_labels=input_label, multimask_output=True)\n",
    "    # return best mask\n",
    "    return masks[np.argmax(scores)]"
   ]
  },
  {
   "cell_type": "markdown",
   "metadata": {},
   "source": [
    "Iterate through images and get mask"
   ]
  },
  {
   "cell_type": "code",
   "execution_count": 6,
   "metadata": {},
   "outputs": [
    {
     "name": "stderr",
     "output_type": "stream",
     "text": [
      "Processing Images: 100%|██████████| 72/72 [00:45<00:00,  1.60it/s]\n"
     ]
    }
   ],
   "source": [
    "from tqdm import tqdm\n",
    "# iterate through each entry in the JSON data\n",
    "for image_name, im_data in tqdm(image_data.items(), desc=\"SAM\"):\n",
    "    image_path = os.path.join(image_folder, image_name)\n",
    "    \n",
    "    # Load the image\n",
    "    img = cv2.imread(image_path)\n",
    "    img = cv2.cvtColor(img, cv2.COLOR_BGR2RGB)\n",
    "    \n",
    "    if img is not None:\n",
    "        # extract coordinates\n",
    "        input_point = np.array([im_data['input_point']])\n",
    "        # Generate the mask\n",
    "        mask = generate_mask(img, input_point)\n",
    "        mask = mask.astype(np.uint8)\n",
    "        \n",
    "        # Define the mask filename\n",
    "        mask_filename = os.path.splitext(image_name)[0] + \"_mask.png\"\n",
    "        mask_path = os.path.join(mask_folder, mask_filename)\n",
    "        \n",
    "        # Save the mask\n",
    "        cv2.imwrite(mask_path, mask)\n",
    "        \n",
    "        # Update the JSON data with the mask filename\n",
    "        image_data[image_name]['mask'] = mask_filename"
   ]
  },
  {
   "cell_type": "markdown",
   "metadata": {},
   "source": [
    "## Step 3: laser point detection"
   ]
  },
  {
   "cell_type": "code",
   "execution_count": 7,
   "metadata": {},
   "outputs": [
    {
     "name": "stderr",
     "output_type": "stream",
     "text": [
      "detecting lasers: 100%|██████████| 72/72 [07:57<00:00,  6.63s/it]\n"
     ]
    }
   ],
   "source": [
    "idx = 0\n",
    "# iterate through each entry in json\n",
    "for image_name, info in tqdm(image_data.items(), desc=\"Laser Detection\"):\n",
    "    image_path = os.path.join(image_folder, image_name)\n",
    "    # load image\n",
    "    source = cv2.imread(image_path)\n",
    "\n",
    "    # Load the mask\n",
    "    mask_filename = info['mask']\n",
    "    mask_path = os.path.join(mask_folder, mask_filename)\n",
    "    mask = cv2.imread(mask_path, cv2.IMREAD_GRAYSCALE)  # Load mask in grayscale\n",
    "    mask = mask > 0  # need to convert to boolean values\n",
    "\n",
    "    if source is not None:\n",
    "        # run laser detection image\n",
    "        points = ld.detect_red_laser_points(source, mask)\n",
    "        \n",
    "        # Update the JSON data with the mask filename\n",
    "        image_data[image_name]['laser_points'] = points"
   ]
  },
  {
   "cell_type": "markdown",
   "metadata": {},
   "source": [
    "### Step 4: Run VitPose"
   ]
  },
  {
   "cell_type": "code",
   "execution_count": 8,
   "metadata": {},
   "outputs": [
    {
     "name": "stdout",
     "output_type": "stream",
     "text": [
      "Downloading model JunkyByte/easy_ViTPose/torch/apt36k/vitpose-b-apt36k.pth\n"
     ]
    }
   ],
   "source": [
    "# define model parameters\n",
    "MODEL_SIZE = 'h'\n",
    "YOLO_SIZE = 'n'\n",
    "DATASET = 'apt36k'\n",
    "ext = '.pth'\n",
    "ext_yolo = '.pt'\n",
    "\n",
    "# download model_path and yolo_path\n",
    "MODEL_TYPE = \"torch\"\n",
    "YOLO_TYPE = \"torch\"\n",
    "REPO_ID = 'JunkyByte/easy_ViTPose'\n",
    "FILENAME = os.path.join(MODEL_TYPE, \n",
    "                        f'{DATASET}/vitpose-' + MODEL_SIZE + f'-{DATASET}') + ext\n",
    "FILENAME_YOLO = 'yolov8/yolov8' + YOLO_SIZE + ext_yolo\n",
    "print(f'Downloading model {REPO_ID}/{FILENAME}')\n",
    "model_path = hf_hub_download(repo_id=REPO_ID, filename=FILENAME)\n",
    "yolo_path = hf_hub_download(repo_id=REPO_ID, filename=FILENAME_YOLO)"
   ]
  },
  {
   "cell_type": "code",
   "execution_count": 9,
   "metadata": {},
   "outputs": [],
   "source": [
    "# initialize model\n",
    "model = VitInference(model_path, yolo_path, MODEL_SIZE, dataset=DATASET)"
   ]
  },
  {
   "cell_type": "code",
   "execution_count": 10,
   "metadata": {},
   "outputs": [
    {
     "name": "stderr",
     "output_type": "stream",
     "text": [
      "ViTPose: 100%|██████████| 72/72 [00:12<00:00,  5.64it/s]"
     ]
    },
    {
     "name": "stdout",
     "output_type": "stream",
     "text": [
      "vitpose failed for 3 images\n"
     ]
    },
    {
     "name": "stderr",
     "output_type": "stream",
     "text": [
      "\n"
     ]
    }
   ],
   "source": [
    "count = 0\n",
    "# iterate through each entry in json\n",
    "for image_name, info in tqdm(image_data.items(), desc=\"ViTPose\"):\n",
    "    image_path = os.path.join(image_folder, image_name)\n",
    "    # load image\n",
    "    img = cv2.imread(image_path)\n",
    "    img = cv2.cvtColor(img, cv2.COLOR_BGR2RGB)  # Convert BGR to RGB for plotting\n",
    "\n",
    "    # get keypoints\n",
    "    img_arr = np.array(img, dtype=np.uint8)\n",
    "    keypoints = model.inference(img_arr)\n",
    "\n",
    "    if keypoints:\n",
    "        # store results\n",
    "        shoulder = (int(keypoints[0][3][1]), int(keypoints[0][3][0]))\n",
    "        rump = (int(keypoints[0][4][1]), int(keypoints[0][4][0]))\n",
    "      \n",
    "        # Update the JSON data with shoulder and rump\n",
    "        image_data[image_name]['shoulder_rump'] = [shoulder, rump]\n",
    "    else:\n",
    "        count += 1\n",
    "        # TODO how do we want to handle this case in the json?\n",
    "        image_data[image_name]['shoulder_rump'] = None\n",
    "\n",
    "print(f\"vitpose failed for {count} images\")"
   ]
  },
  {
   "cell_type": "markdown",
   "metadata": {},
   "source": [
    "### Step 5: get distances"
   ]
  },
  {
   "cell_type": "code",
   "execution_count": 11,
   "metadata": {},
   "outputs": [],
   "source": [
    "measured_df = pd.read_csv('../data/measured.csv')\n",
    "measured_df = measured_df.dropna(subset=['PhotoID', 'Laser Width', 'BodyLength1'])"
   ]
  },
  {
   "cell_type": "markdown",
   "metadata": {},
   "source": [
    "Get dictionaries for conversions"
   ]
  },
  {
   "cell_type": "code",
   "execution_count": 12,
   "metadata": {},
   "outputs": [],
   "source": [
    "laser_width = dict(zip(measured_df['PhotoID'], measured_df['Laser Width']))\n",
    "body_length = dict(zip(measured_df['PhotoID'], measured_df['BodyLength1']))\n",
    "pix_laser = dict(zip(measured_df['PhotoID'], measured_df['PixLaser1']))\n",
    "pix_length = dict(zip(measured_df['PhotoID'], measured_df['PixLength1']))"
   ]
  },
  {
   "cell_type": "code",
   "execution_count": 15,
   "metadata": {},
   "outputs": [
    {
     "name": "stderr",
     "output_type": "stream",
     "text": [
      "Calculating Final Distances: 100%|██████████| 72/72 [00:00<00:00, 58142.07it/s]"
     ]
    },
    {
     "name": "stdout",
     "output_type": "stream",
     "text": [
      "Predicted: 64.5276614832536\t Actual: 63.20911765\t Error = 0.021\n",
      "Predicted: 89.37468982630273\t Actual: 27.38267717\t Error = 2.264\n",
      "Predicted: 63.44714285714284\t Actual: 62.64761905\t Error = 0.013\n",
      "Predicted: 46.3542\t Actual: 47.13861386\t Error = 0.017\n",
      "Predicted: 56.639354838709664\t Actual: 54.55\t Error = 0.038\n",
      "Predicted: 25.9396875\t Actual: 26.90520833\t Error = 0.036\n",
      "Predicted: 40.85481481481481\t Actual: 39.61111111\t Error = 0.031\n",
      "Predicted: 42.145133899412144\t Actual: 44.34640523\t Error = 0.05\n",
      "Predicted: 62.02759259259258\t Actual: 65.89074074\t Error = 0.059\n",
      "Predicted: 16.897756686798964\t Actual: 37.86153846\t Error = 0.554\n",
      "Predicted: 71.14347222222221\t Actual: 59.07103825\t Error = 0.204\n",
      "Predicted: 49.802040816326524\t Actual: 59.38181818\t Error = 0.161\n",
      "Predicted: 52.73015384615384\t Actual: 53.85538462\t Error = 0.021\n",
      "Predicted: 64.90015873015872\t Actual: 63.465625\t Error = 0.023\n",
      "Predicted: 54.471968503937006\t Actual: 60.92283465\t Error = 0.106\n",
      "Predicted: 52.32323076923077\t Actual: 58.36030534\t Error = 0.103\n",
      "Predicted: 62.54698113207546\t Actual: 62.91047619\t Error = 0.006\n",
      "Predicted: 24.128543072647876\t Actual: 39.93918919\t Error = 0.396\n",
      "Predicted: 8.917493285586392\t Actual: 58.15\t Error = 0.847\n",
      "Predicted: 268.35041782729803\t Actual: 63.56903226\t Error = 3.221\n",
      "Predicted: 238.821645021645\t Actual: 55.8241206\t Error = 3.278\n",
      "Predicted: 7.633333333333332\t Actual: 58.16164384\t Error = 0.869\n",
      "Predicted: 75.55109433962262\t Actual: 60.53717949\t Error = 0.248\n",
      "Predicted: 256.68958333333336\t Actual: 61.40858896\t Error = 3.18\n",
      "Predicted: 49.08659999999999\t Actual: 50.19009901\t Error = 0.022\n",
      "Predicted: 5.630797517811997\t Actual: 35.34736842\t Error = 0.841\n",
      "Predicted: 56.71018867924528\t Actual: 59.19245283\t Error = 0.042\n",
      "Predicted: 53.98490566037736\t Actual: 54.93461538\t Error = 0.017\n",
      "Predicted: 63.59904852521408\t Actual: 66.18096883\t Error = 0.039\n",
      "Predicted: 63.63333333333333\t Actual: 67.85\t Error = 0.062\n",
      "Predicted: 59.56079999999999\t Actual: 57.868\t Error = 0.029\n",
      "Predicted: 23.924946236559137\t Actual: 23.85464481\t Error = 0.003\n",
      "Predicted: 66.77666666666667\t Actual: 62.70238095\t Error = 0.065\n",
      "Predicted: 44.997723577235774\t Actual: 47.04715447\t Error = 0.044\n",
      "Predicted: 10.131399605744859\t Actual: 36.754\t Error = 0.724\n",
      "Predicted: 62.74757281553398\t Actual: 65.73980583\t Error = 0.046\n",
      "Predicted: 44.65365853658536\t Actual: 60.4\t Error = 0.261\n",
      "Predicted: 64.33046511627906\t Actual: 63.85882353\t Error = 0.007\n",
      "Predicted: 66.18111999999999\t Actual: 64.2896\t Error = 0.029\n",
      "Predicted: 41.23847328244275\t Actual: 42.3480916\t Error = 0.026\n",
      "Predicted: 55.67839999999999\t Actual: 55.2\t Error = 0.009\n",
      "Predicted: 56.95320754716982\t Actual: 57.23461538\t Error = 0.005\n",
      "Predicted: 55.607924528301886\t Actual: 56.76226415\t Error = 0.02\n",
      "Predicted: 52.81106899166034\t Actual: 55.37557252\t Error = 0.046\n",
      "Predicted: 34.01183673469388\t Actual: 36.03076201\t Error = 0.056\n",
      "Predicted: 63.62114409847937\t Actual: 69.84469007\t Error = 0.089\n",
      "Predicted: 48.71399999999999\t Actual: 50.78217822\t Error = 0.041\n",
      "Predicted: 44.11134615384615\t Actual: 42.15192308\t Error = 0.046\n",
      "Predicted: 59.48112965340179\t Actual: 40.25982906\t Error = 0.477\n",
      "Predicted: 60.56402298850575\t Actual: 58.47816092\t Error = 0.036\n",
      "Predicted: 45.00854368932038\t Actual: 42.73980583\t Error = 0.053\n",
      "Predicted: 234.61381381381383\t Actual: 57.58518519\t Error = 3.074\n",
      "Predicted: 52.41776616590464\t Actual: 64.61904762\t Error = 0.189\n",
      "Predicted: 46.93352941176471\t Actual: 43.83529412\t Error = 0.071\n",
      "Predicted: 76.1402088772846\t Actual: 62.11204188\t Error = 0.226\n",
      "Predicted: 87.04454545454546\t Actual: 36.26923077\t Error = 1.4\n",
      "Predicted: 54.21366635249765\t Actual: 46.36170697\t Error = 0.169\n",
      "Predicted: 48.58225538971808\t Actual: 59.5919598\t Error = 0.185\n",
      "Predicted: 226.80598006644516\t Actual: 40.47439024\t Error = 4.604\n",
      "Predicted: 57.862692307692306\t Actual: 58.11923077\t Error = 0.004\n",
      "Predicted: 69.24666666666666\t Actual: 61.50857143\t Error = 0.126\n",
      "Predicted: 64.92837837837837\t Actual: 61.70133333\t Error = 0.052\n",
      "37 / 72 images with less than 10 percent error\n"
     ]
    },
    {
     "name": "stderr",
     "output_type": "stream",
     "text": [
      "\n"
     ]
    }
   ],
   "source": [
    "# iterate through each entry in json\n",
    "count = 0\n",
    "errors = []\n",
    "for image_name, info in tqdm(image_data.items(), desc=\"Calculating Final Distances\"):\n",
    "    try:\n",
    "        # distances in pixels\n",
    "        laser_points = info['laser_points']\n",
    "        body_points = info['shoulder_rump']\n",
    "\n",
    "        # calculate ratio\n",
    "        laser_dist = round(math.dist(laser_points[0], laser_points[1]), 1)\n",
    "        body_dist = round(math.dist(body_points[0], body_points[1]), 1)\n",
    "        ratio = laser_dist / body_dist\n",
    "\n",
    "        # lookup laser width\n",
    "        photo_id = image_name.split('.')[0]\n",
    "        laser_in = laser_width[photo_id]\n",
    "        # compare results\n",
    "        predicted_length = laser_in / ratio\n",
    "        true_length = body_length[photo_id]\n",
    "        error = round(abs(predicted_length - true_length) / true_length, 3)\n",
    "        errors.append(error * 100)\n",
    "        print(f\"Predicted: {predicted_length}\\t Actual: {true_length}\\t Error = {error}\")\n",
    "        \n",
    "        if error < 0.10:\n",
    "            count += 1\n",
    "    except:\n",
    "        pass\n",
    "\n",
    "print(f\"{count} / {len(image_data)} images with less than 10 percent error\")"
   ]
  },
  {
   "cell_type": "code",
   "execution_count": 16,
   "metadata": {},
   "outputs": [
    {
     "name": "stdout",
     "output_type": "stream",
     "text": [
      "mean: 46.74354838709678\n",
      "median: 5.45\n",
      "std: 97.7629153599002\n"
     ]
    }
   ],
   "source": [
    "print(\"mean:\", np.mean(errors))\n",
    "print(\"median:\", np.median(errors))\n",
    "print(\"std:\", np.std(errors))"
   ]
  },
  {
   "cell_type": "code",
   "execution_count": 23,
   "metadata": {},
   "outputs": [
    {
     "data": {
      "text/plain": [
       "[460.40000000000003,\n",
       " 327.8,\n",
       " 322.1,\n",
       " 318.0,\n",
       " 307.4,\n",
       " 226.39999999999998,\n",
       " 140.0,\n",
       " 86.9]"
      ]
     },
     "execution_count": 23,
     "metadata": {},
     "output_type": "execute_result"
    }
   ],
   "source": [
    "sorted(errors, reverse=True)[:8]"
   ]
  },
  {
   "cell_type": "code",
   "execution_count": 18,
   "metadata": {},
   "outputs": [
    {
     "data": {
      "image/png": "[encoded data removed]",
      "text/plain": [
       "<Figure size 640x480 with 1 Axes>"
      ]
     },
     "metadata": {},
     "output_type": "display_data"
    }
   ],
   "source": [
    "import matplotlib.pyplot as plt\n",
    "plt.hist(errors, bins=30, edgecolor='black')\n",
    "plt.xlabel(\"Percent Error\")\n",
    "plt.xticks([0,25,50,75,100,150,200,250,300])\n",
    "plt.ylabel(\"Count\")\n",
    "plt.title(\"Distribution of Prediction Error\")\n",
    "plt.show()"
   ]
  },
  {
   "cell_type": "markdown",
   "metadata": {},
   "source": [
    "### Save final results"
   ]
  },
  {
   "cell_type": "code",
   "execution_count": 19,
   "metadata": {},
   "outputs": [
    {
     "name": "stdout",
     "output_type": "stream",
     "text": [
      "Updated data saved to ../data/perfect.json\n"
     ]
    }
   ],
   "source": [
    "# Write the updated JSON data to a file\n",
    "with open(json_file, 'w') as file:\n",
    "    json.dump(image_data, file, indent=4)\n",
    "\n",
    "print(f\"Updated data saved to {json_file}\")"
   ]
  },
  {
   "cell_type": "code",
   "execution_count": null,
   "metadata": {},
   "outputs": [],
   "source": []
  }
 ],
 "metadata": {
  "kernelspec": {
   "display_name": "fzwz",
   "language": "python",
   "name": "fzwz"
  },
  "language_info": {
   "codemirror_mode": {
    "name": "ipython",
    "version": 3
   },
   "file_extension": ".py",
   "mimetype": "text/x-python",
   "name": "python",
   "nbconvert_exporter": "python",
   "pygments_lexer": "ipython3",
   "version": "3.9.13"
  }
 },
 "nbformat": 4,
 "nbformat_minor": 2
}
