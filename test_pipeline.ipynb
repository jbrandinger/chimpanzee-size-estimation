{
 "cells": [
  {
   "cell_type": "markdown",
   "metadata": {},
   "source": [
    "# Pipeline for image size estimation"
   ]
  },
  {
   "cell_type": "markdown",
   "metadata": {},
   "source": [
    "Imports"
   ]
  },
  {
   "cell_type": "code",
   "execution_count": 1,
   "metadata": {},
   "outputs": [
    {
     "name": "stderr",
     "output_type": "stream",
     "text": [
      "/cluster/tufts/fuzzywuzzy/jbrand12/condaenv/fzwz/lib/python3.9/site-packages/tqdm/auto.py:21: TqdmWarning: IProgress not found. Please update jupyter and ipywidgets. See https://ipywidgets.readthedocs.io/en/stable/user_install.html\n",
      "  from .autonotebook import tqdm as notebook_tqdm\n"
     ]
    }
   ],
   "source": [
    "# basics\n",
    "import numpy as np\n",
    "import pandas as pd\n",
    "import math\n",
    "from tqdm import tqdm\n",
    "# file work\n",
    "import os\n",
    "import json\n",
    "# computer vision\n",
    "import cv2\n",
    "import torch\n",
    "import laser_detection as ld\n",
    "# models\n",
    "from segment_anything import sam_model_registry, SamPredictor\n",
    "from easy_ViTPose import VitInference\n",
    "from huggingface_hub import hf_hub_download"
   ]
  },
  {
   "cell_type": "markdown",
   "metadata": {},
   "source": [
    "## Step 0: Assign input point to each image"
   ]
  },
  {
   "cell_type": "markdown",
   "metadata": {},
   "source": [
    "run: 'python3 label.py' to get json of image names and input points (change path to folder in script)"
   ]
  },
  {
   "cell_type": "markdown",
   "metadata": {},
   "source": [
    "## Step 1: Load image data from json"
   ]
  },
  {
   "cell_type": "markdown",
   "metadata": {},
   "source": [
    "The below are modifiable variables you can change depending on what dataset you are running"
   ]
  },
  {
   "cell_type": "code",
   "execution_count": 2,
   "metadata": {},
   "outputs": [],
   "source": [
    "# ALL DATA\n",
    "json_file = '../data/invalid_QC.json'  # must contain input labels\n",
    "image_folder = '../data/invalid_QC'\n",
    "mask_folder = '../data/invalid_QC_masks'  # can be empty to start\n",
    "\n",
    "# SAMPLE DATA\n",
    "# json_file = 'sample_data/red_lasers/sample_data.json'  # must contain input labels\n",
    "# image_folder = 'sample_data/red_lasers/sample_data'\n",
    "# mask_folder = 'sample_data/red_lasers/sample_data_masks'  # can be empty to start\n",
    "\n",
    "# load data\n",
    "with open(json_file, 'r') as file:\n",
    "    image_data = json.load(file)"
   ]
  },
  {
   "cell_type": "code",
   "execution_count": 3,
   "metadata": {},
   "outputs": [
    {
     "data": {
      "text/plain": [
       "145"
      ]
     },
     "execution_count": 3,
     "metadata": {},
     "output_type": "execute_result"
    }
   ],
   "source": [
    "len(image_data)"
   ]
  },
  {
   "cell_type": "markdown",
   "metadata": {},
   "source": [
    "## Step 2: Run images through SAM to prep for laser detection"
   ]
  },
  {
   "cell_type": "markdown",
   "metadata": {},
   "source": [
    "### ***only need to run this code once to get masks!!!"
   ]
  },
  {
   "cell_type": "markdown",
   "metadata": {},
   "source": [
    "Set up SAM"
   ]
  },
  {
   "cell_type": "code",
   "execution_count": 4,
   "metadata": {},
   "outputs": [],
   "source": [
    "# select checkpoint and model type\n",
    "sam_checkpoint = \"../sam_vit_h_4b8939.pth\"\n",
    "model_type = \"vit_h\"\n",
    "\n",
    "# define predictor\n",
    "sam = sam_model_registry[model_type](checkpoint=sam_checkpoint)\n",
    "\n",
    "# change device if cuda is available\n",
    "if torch.cuda.is_available():\n",
    "    sam.to(device='cuda')\n",
    "\n",
    "predictor = SamPredictor(sam)"
   ]
  },
  {
   "cell_type": "code",
   "execution_count": 5,
   "metadata": {},
   "outputs": [],
   "source": [
    "def generate_mask(im, input_point):\n",
    "    input_label = np.array([1])\n",
    "    predictor.set_image(im)\n",
    "    masks, scores, _ = predictor.predict(point_coords=input_point, point_labels=input_label, multimask_output=True)\n",
    "    # return best mask\n",
    "    return masks[np.argmax(scores)]"
   ]
  },
  {
   "cell_type": "markdown",
   "metadata": {},
   "source": [
    "Iterate through images and get mask"
   ]
  },
  {
   "cell_type": "code",
   "execution_count": 6,
   "metadata": {},
   "outputs": [
    {
     "name": "stderr",
     "output_type": "stream",
     "text": [
      "SAM: 100%|██████████| 145/145 [01:34<00:00,  1.53it/s]\n"
     ]
    }
   ],
   "source": [
    "from tqdm import tqdm\n",
    "# iterate through each entry in the JSON data\n",
    "for image_name, im_data in tqdm(image_data.items(), desc=\"SAM\"):\n",
    "    image_path = os.path.join(image_folder, image_name)\n",
    "    \n",
    "    # Load the image\n",
    "    img = cv2.imread(image_path)\n",
    "    img = cv2.cvtColor(img, cv2.COLOR_BGR2RGB)\n",
    "    \n",
    "    # extract coordinates\n",
    "    input_point = np.array([im_data['input_point']])\n",
    "    # Generate the mask\n",
    "    mask = generate_mask(img, input_point)\n",
    "    mask = mask.astype(np.uint8)\n",
    "\n",
    "    # Define the mask filename\n",
    "    mask_filename = os.path.splitext(image_name)[0] + \"_mask.png\"\n",
    "    mask_path = os.path.join(mask_folder, mask_filename)\n",
    "\n",
    "    # Save the mask\n",
    "    cv2.imwrite(mask_path, mask)\n",
    "\n",
    "    # Update the JSON data with the mask filename\n",
    "    image_data[image_name]['mask'] = mask_filename"
   ]
  },
  {
   "cell_type": "markdown",
   "metadata": {},
   "source": [
    "## Step 3: Run VitPose"
   ]
  },
  {
   "cell_type": "code",
   "execution_count": 7,
   "metadata": {},
   "outputs": [
    {
     "name": "stdout",
     "output_type": "stream",
     "text": [
      "Downloading model JunkyByte/easy_ViTPose/torch/apt36k/vitpose-h-apt36k.pth\n"
     ]
    }
   ],
   "source": [
    "# define model parameters\n",
    "MODEL_SIZE = 'h'\n",
    "YOLO_SIZE = 'n'\n",
    "DATASET = 'apt36k'\n",
    "ext = '.pth'\n",
    "ext_yolo = '.pt'\n",
    "\n",
    "# download model_path and yolo_path\n",
    "MODEL_TYPE = \"torch\"\n",
    "YOLO_TYPE = \"torch\"\n",
    "REPO_ID = 'JunkyByte/easy_ViTPose'\n",
    "FILENAME = os.path.join(MODEL_TYPE, \n",
    "                        f'{DATASET}/vitpose-' + MODEL_SIZE + f'-{DATASET}') + ext\n",
    "FILENAME_YOLO = 'yolov8/yolov8' + YOLO_SIZE + ext_yolo\n",
    "print(f'Downloading model {REPO_ID}/{FILENAME}')\n",
    "model_path = hf_hub_download(repo_id=REPO_ID, filename=FILENAME)\n",
    "yolo_path = hf_hub_download(repo_id=REPO_ID, filename=FILENAME_YOLO)"
   ]
  },
  {
   "cell_type": "code",
   "execution_count": 8,
   "metadata": {},
   "outputs": [],
   "source": [
    "# initialize model\n",
    "model = VitInference(model_path, yolo_path, MODEL_SIZE, dataset=DATASET)"
   ]
  },
  {
   "cell_type": "code",
   "execution_count": 9,
   "metadata": {},
   "outputs": [
    {
     "name": "stderr",
     "output_type": "stream",
     "text": [
      "ViTPose: 100%|██████████| 145/145 [00:30<00:00,  4.73it/s]"
     ]
    },
    {
     "name": "stdout",
     "output_type": "stream",
     "text": [
      "vitpose failed for 23 images\n"
     ]
    },
    {
     "name": "stderr",
     "output_type": "stream",
     "text": [
      "\n"
     ]
    }
   ],
   "source": [
    "count = 0\n",
    "# iterate through each entry in json\n",
    "for image_name, info in tqdm(image_data.items(), desc=\"ViTPose\"):\n",
    "    image_path = os.path.join(image_folder, image_name)\n",
    "    # load image\n",
    "    img = cv2.imread(image_path)\n",
    "    img = cv2.cvtColor(img, cv2.COLOR_BGR2RGB)  # Convert BGR to RGB for plotting\n",
    "\n",
    "    # get keypoints\n",
    "    img_arr = np.array(img, dtype=np.uint8)\n",
    "    keypoints = model.inference(img_arr)\n",
    "\n",
    "    if keypoints:\n",
    "        # TODO - handle case with more than one chimp detected\n",
    "        # store results\n",
    "        shoulder = (int(keypoints[0][3][1]), int(keypoints[0][3][0]))\n",
    "        rump = (int(keypoints[0][4][1]), int(keypoints[0][4][0]))\n",
    "      \n",
    "        # Update the JSON data with shoulder and rump\n",
    "        image_data[image_name]['shoulder_rump'] = [shoulder, rump]\n",
    "    else:\n",
    "        count += 1\n",
    "        image_data[image_name]['shoulder_rump'] = None\n",
    "\n",
    "print(f\"vitpose failed for {count} images\")"
   ]
  },
  {
   "cell_type": "markdown",
   "metadata": {},
   "source": [
    "## Step 4: laser point detection"
   ]
  },
  {
   "cell_type": "code",
   "execution_count": 10,
   "metadata": {},
   "outputs": [],
   "source": [
    "# Function to compute y from x using the line equation\n",
    "def compute_y(x, slope, intercept):\n",
    "    return int(slope * x + intercept)\n",
    "\n",
    "# Function to create the mask with actual image dimensions\n",
    "def create_geo_mask(point1, point2, image_height=1728, image_width=2592):\n",
    "    # Calculate the slope and intercept of the line between the points\n",
    "    dx = point2[0] - point1[0]\n",
    "    dy = point2[1] - point1[1]\n",
    "    slope = dy / dx if dx != 0 else None\n",
    "\n",
    "    # Calculate the perpendicular slopes\n",
    "    if slope is not None:\n",
    "        perpendicular_slope = -1 / slope\n",
    "        # Calculate the intercept for the perpendicular lines\n",
    "        intercept1 = point1[1] - (perpendicular_slope * point1[0])\n",
    "        intercept2 = point2[1] - (perpendicular_slope * point2[0])\n",
    "    else:\n",
    "        # If the line is vertical, the perpendiculars will be horizontal\n",
    "        perpendicular_slope = 0\n",
    "        intercept1 = point1[1]\n",
    "        intercept2 = point2[1]\n",
    "\n",
    "    # Create an empty mask\n",
    "    mask = np.zeros((image_height, image_width), dtype=np.uint8)\n",
    "\n",
    "    # Fill the mask\n",
    "    for x in range(image_width):\n",
    "        if slope is not None:\n",
    "            y_from_point1 = compute_y(x, perpendicular_slope, intercept1)\n",
    "            y_from_point2 = compute_y(x, perpendicular_slope, intercept2)\n",
    "        else:\n",
    "            # If original line is vertical, fill entire column for mask\n",
    "            y_from_point1, y_from_point2 = 0, image_height - 1\n",
    "\n",
    "        # Ensure the y values are within image boundaries\n",
    "        y_from_point1 = np.clip(y_from_point1, 0, image_height - 1)\n",
    "        y_from_point2 = np.clip(y_from_point2, 0, image_height - 1)\n",
    "\n",
    "        if y_from_point1 < y_from_point2:\n",
    "            mask[y_from_point1:y_from_point2, x] = 255\n",
    "        else:\n",
    "            mask[y_from_point2:y_from_point1, x] = 255\n",
    "\n",
    "    return mask"
   ]
  },
  {
   "cell_type": "code",
   "execution_count": 11,
   "metadata": {},
   "outputs": [
    {
     "name": "stderr",
     "output_type": "stream",
     "text": [
      "Laser Detection: 100%|██████████| 145/145 [18:23<00:00,  7.61s/it]"
     ]
    },
    {
     "name": "stdout",
     "output_type": "stream",
     "text": [
      "Laser Detection failed for 17 images\n"
     ]
    },
    {
     "name": "stderr",
     "output_type": "stream",
     "text": [
      "\n"
     ]
    }
   ],
   "source": [
    "count = 0\n",
    "# iterate through each entry in json\n",
    "for image_name, info in tqdm(image_data.items(), desc=\"Laser Detection\"):\n",
    "    image_path = os.path.join(image_folder, image_name)\n",
    "    # load image\n",
    "    source = cv2.imread(image_path)\n",
    "\n",
    "    # geo mask\n",
    "    sr = info['shoulder_rump']\n",
    "    if sr:\n",
    "        point1, point2 = sr[0], sr[1]\n",
    "        geo_mask = create_geo_mask(point1, point2, source.shape[0], source.shape[1])\n",
    "    else:\n",
    "        geo_mask = np.ones(source.shape[:2], dtype=np.uint8)\n",
    "\n",
    "    # body mask\n",
    "    mask_filename = info['mask']\n",
    "    mask_path = os.path.join(mask_folder, mask_filename)\n",
    "    body_mask = cv2.imread(mask_path, cv2.IMREAD_GRAYSCALE)  # Load mask in grayscale\n",
    "\n",
    "    mask = cv2.bitwise_and(geo_mask, body_mask)\n",
    "    mask = mask > 0  # need to convert to boolean values\n",
    "\n",
    "    # adjust accodringly\n",
    "    points = ld.detect_red_laser_points(source, mask)\n",
    "\n",
    "    # Update the JSON data with the mask filename\n",
    "    if len(points) == 2:\n",
    "        image_data[image_name]['laser_points'] = points\n",
    "    else:\n",
    "        count += 1\n",
    "        image_data[image_name]['laser_points'] = None\n",
    "        \n",
    "print(f\"Laser Detection failed for {count} images\")"
   ]
  },
  {
   "cell_type": "markdown",
   "metadata": {},
   "source": [
    "### Step 5: get distances"
   ]
  },
  {
   "cell_type": "code",
   "execution_count": 12,
   "metadata": {},
   "outputs": [
    {
     "name": "stderr",
     "output_type": "stream",
     "text": [
      "Calculating Final Distances: 100%|██████████| 145/145 [00:00<00:00, 176180.21it/s]"
     ]
    },
    {
     "name": "stdout",
     "output_type": "stream",
     "text": [
      "model was unable to generate prediction for 38 images\n"
     ]
    },
    {
     "name": "stderr",
     "output_type": "stream",
     "text": [
      "\n"
     ]
    }
   ],
   "source": [
    "# iterate through each entry in json\n",
    "predicted_lengths = []\n",
    "fail_ims =[] # store names of images where model failed\n",
    "\n",
    "# store specific errors\n",
    "errors = []\n",
    "laser_errors = []\n",
    "body_errors = []\n",
    "for image_name, info in tqdm(image_data.items(), desc=\"Calculating Final Distances\"):\n",
    "    # distances in pixels\n",
    "    laser_points = info['laser_points']\n",
    "    body_points = info['shoulder_rump']\n",
    "\n",
    "    if laser_points and body_points:\n",
    "        # calculate pixel distances\n",
    "        laser_dist = round(math.dist(laser_points[0], laser_points[1]), 1) # spreadsheet rounds this value to 1\n",
    "        body_dist = round(math.dist(body_points[0], body_points[1]), 1) # same here\n",
    "        ratio = laser_dist / body_dist\n",
    "\n",
    "        # lookup laser width\n",
    "        if image_name.startswith(\"KCP\"):\n",
    "            laser_in = 4.45\n",
    "        else:\n",
    "            laser_in = 4.6\n",
    "        \n",
    "        # compare results\n",
    "        predicted_length = laser_in / ratio\n",
    "        predicted_lengths.append(predicted_length)\n",
    "\n",
    "    else:\n",
    "        fail_ims.append(image_name)\n",
    "\n",
    "print(f\"model was unable to generate prediction for {len(fail_ims)} images\")"
   ]
  },
  {
   "cell_type": "markdown",
   "metadata": {},
   "source": [
    "### Save final results"
   ]
  },
  {
   "cell_type": "code",
   "execution_count": 13,
   "metadata": {},
   "outputs": [
    {
     "name": "stdout",
     "output_type": "stream",
     "text": [
      "Updated data saved to ../data/invalid_QC.json\n"
     ]
    }
   ],
   "source": [
    "# Write the updated JSON data to a file\n",
    "with open(json_file, 'w') as file:\n",
    "    json.dump(image_data, file, indent=4)\n",
    "\n",
    "print(f\"Updated data saved to {json_file}\")"
   ]
  },
  {
   "cell_type": "markdown",
   "metadata": {},
   "source": [
    "## Insepct Results"
   ]
  },
  {
   "cell_type": "code",
   "execution_count": 14,
   "metadata": {},
   "outputs": [
    {
     "data": {
      "image/png": "[encoded data removed]",
      "text/plain": [
       "<Figure size 640x480 with 1 Axes>"
      ]
     },
     "metadata": {},
     "output_type": "display_data"
    }
   ],
   "source": [
    "import matplotlib.pyplot as plt\n",
    "plt.hist(predicted_lengths, bins=50, edgecolor='black')\n",
    "plt.xlabel(\"Inches\")\n",
    "plt.ylabel(\"Count\")\n",
    "plt.title(\"Distribution of Predicted Lengths\")\n",
    "plt.show()"
   ]
  },
  {
   "cell_type": "code",
   "execution_count": 15,
   "metadata": {},
   "outputs": [
    {
     "name": "stdout",
     "output_type": "stream",
     "text": [
      "mean: 58.664250493449785\n",
      "median: 49.92769230769231\n",
      "std: 44.67277778674447\n",
      "min: 8.933400646203555 max: 272.30031847133756\n"
     ]
    }
   ],
   "source": [
    "print(\"mean:\", np.mean(predicted_lengths))\n",
    "print(\"median:\", np.median(predicted_lengths))\n",
    "print(\"std:\", np.std(predicted_lengths))\n",
    "print(\"min:\", np.min(predicted_lengths), \"max:\", np.max(predicted_lengths))"
   ]
  },
  {
   "cell_type": "code",
   "execution_count": 34,
   "metadata": {},
   "outputs": [],
   "source": [
    "def draw_dots(points, ax, color):\n",
    "    ax.scatter(points[:, 0], points[:, 1], color=color, s=25, edgecolor='black')"
   ]
  },
  {
   "cell_type": "code",
   "execution_count": 93,
   "metadata": {},
   "outputs": [
    {
     "ename": "IndexError",
     "evalue": "list index out of range",
     "output_type": "error",
     "traceback": [
      "\u001b[0;31m---------------------------------------------------------------------------\u001b[0m",
      "\u001b[0;31mIndexError\u001b[0m                                Traceback (most recent call last)",
      "Cell \u001b[0;32mIn[93], line 3\u001b[0m\n\u001b[1;32m      1\u001b[0m idx \u001b[38;5;241m=\u001b[39m \u001b[38;5;241m28\u001b[39m\n\u001b[0;32m----> 3\u001b[0m image_name \u001b[38;5;241m=\u001b[39m \u001b[43mfail_ims\u001b[49m\u001b[43m[\u001b[49m\u001b[43midx\u001b[49m\u001b[43m]\u001b[49m\n\u001b[1;32m      4\u001b[0m info \u001b[38;5;241m=\u001b[39m image_data[image_name]\n\u001b[1;32m      6\u001b[0m image_path \u001b[38;5;241m=\u001b[39m os\u001b[38;5;241m.\u001b[39mpath\u001b[38;5;241m.\u001b[39mjoin(image_folder, image_name)\n",
      "\u001b[0;31mIndexError\u001b[0m: list index out of range"
     ]
    }
   ],
   "source": [
    "idx = 0\n",
    "\n",
    "image_name = fail_ims[idx]\n",
    "info = image_data[image_name]\n",
    "\n",
    "image_path = os.path.join(image_folder, image_name)\n",
    "# load image\n",
    "img = cv2.imread(image_path)\n",
    "img = cv2.cvtColor(img, cv2.COLOR_BGR2RGB)  # Convert BGR to RGB for plotting\n",
    "\n",
    "# extract coordinates\n",
    "laser_points = np.array(info['laser_points'])\n",
    "body_points = np.array(info['shoulder_rump'])\n",
    "\n",
    "# plot image\n",
    "plt.imshow(img)\n",
    "\n",
    "# draw_dots(laser_points, plt, \"skyblue\")\n",
    "# draw_dots(body_points, plt, \"yellow\")\n",
    "plt.title(f\"{image_name}\")\n",
    "plt.axis('off')\n",
    "\n",
    "plt.show()"
   ]
  }
 ],
 "metadata": {
  "kernelspec": {
   "display_name": "fzwz",
   "language": "python",
   "name": "fzwz"
  },
  "language_info": {
   "codemirror_mode": {
    "name": "ipython",
    "version": 3
   },
   "file_extension": ".py",
   "mimetype": "text/x-python",
   "name": "python",
   "nbconvert_exporter": "python",
   "pygments_lexer": "ipython3",
   "version": "3.9.13"
  }
 },
 "nbformat": 4,
 "nbformat_minor": 2
}
